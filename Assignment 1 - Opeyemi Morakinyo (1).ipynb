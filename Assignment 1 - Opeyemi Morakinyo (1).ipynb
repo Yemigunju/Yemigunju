{
 "cells": [
  {
   "cell_type": "markdown",
   "id": "fa7b6460",
   "metadata": {},
   "source": [
    "### This is an assignment to test your understanding on defining a Function as a user (User Defined Functions). \n",
    "\n",
    "### Study the problems carefully and write codes to solve these problems"
   ]
  },
  {
   "cell_type": "markdown",
   "id": "d0614b1a",
   "metadata": {},
   "source": [
    "##### Problem 1"
   ]
  },
  {
   "cell_type": "markdown",
   "id": "0aed02eb",
   "metadata": {},
   "source": [
    "Write a function named 'Greet' that collects a user name and greets the user.\n",
    "\n",
    "#### sample output: Good Morning, Victor"
   ]
  },
  {
   "cell_type": "code",
   "execution_count": 1,
   "id": "2bcdf2ef",
   "metadata": {},
   "outputs": [
    {
     "name": "stdout",
     "output_type": "stream",
     "text": [
      "Good Morning,: Opeyemi\n"
     ]
    }
   ],
   "source": [
    "Greet = input('Good Morning,: ')"
   ]
  },
  {
   "cell_type": "markdown",
   "id": "55679b26",
   "metadata": {},
   "source": [
    "###### Problem 2"
   ]
  },
  {
   "cell_type": "markdown",
   "id": "92e0c00b",
   "metadata": {},
   "source": [
    "Write a function that capitalizes the first letter of each word in a given sentence."
   ]
  },
  {
   "cell_type": "code",
   "execution_count": 2,
   "id": "26b33ef9",
   "metadata": {},
   "outputs": [
    {
     "name": "stdout",
     "output_type": "stream",
     "text": [
      "enter here: titilayo is a trustworthy trader\n",
      "Titilayo Is A Trustworthy Trader\n"
     ]
    }
   ],
   "source": [
    "import string\n",
    "s = input('enter here: ')\n",
    "result = string.capwords(s)\n",
    "print(result)"
   ]
  },
  {
   "cell_type": "markdown",
   "id": "ab109d42",
   "metadata": {},
   "source": [
    "##### Problem 3"
   ]
  },
  {
   "cell_type": "markdown",
   "id": "1749d720",
   "metadata": {},
   "source": [
    "##### User name and Password Checker\n",
    "\n",
    "Create a simple authentication system by defining two variables: one for the username and another for the password. Then, define a function that prompts users for their input, verifies whether both the entered username and password match the predefined variables, and prints 'Access granted' if there is a match; otherwise, print 'Access Denied'."
   ]
  },
  {
   "cell_type": "code",
   "execution_count": 39,
   "id": "a774e5d6",
   "metadata": {},
   "outputs": [],
   "source": [
    "def username():\n",
    "    username = 'yemigunju'\n",
    "    \n",
    "    \n",
    "    while True:\n",
    "        username = input('input a username: ')\n",
    "        if username == '':\n",
    "            break\n",
    "        \n",
    "        if username == 'yemigunju':\n",
    "            print('Access granted')\n",
    "        else:\n",
    "            print('Access Denied')\n",
    "        \n",
    "def password():\n",
    "    password = 'Adeyemi123'\n",
    "    \n",
    "    while True:\n",
    "        password = input('input a password: ')\n",
    "        if username == '':\n",
    "            break\n",
    "            \n",
    "        if password == 'Adeyemi123':\n",
    "            print('Access granted')\n",
    "        else:\n",
    "            print('Access Denied')"
   ]
  },
  {
   "cell_type": "code",
   "execution_count": 36,
   "id": "0d837153",
   "metadata": {},
   "outputs": [
    {
     "name": "stdout",
     "output_type": "stream",
     "text": [
      "input a username: yemigunju\n",
      "Access granted\n",
      "input a username: adegunju\n",
      "Access Denied\n",
      "input a username: Yemigunju\n",
      "Access Denied\n",
      "input a username:  \n",
      "Access Denied\n",
      "input a username: \n"
     ]
    }
   ],
   "source": [
    "username()"
   ]
  },
  {
   "cell_type": "code",
   "execution_count": null,
   "id": "6ed4760b",
   "metadata": {},
   "outputs": [
    {
     "name": "stdout",
     "output_type": "stream",
     "text": [
      "input a password: Adeyemi123\n",
      "Access granted\n",
      "input a password: adeyemi123\n",
      "Access Denied\n",
      "input a password: \n",
      "Access Denied\n"
     ]
    }
   ],
   "source": [
    "password()"
   ]
  },
  {
   "cell_type": "markdown",
   "id": "85ad3e4c",
   "metadata": {},
   "source": [
    "# Merry Christmas 🎄 to y'all."
   ]
  },
  {
   "cell_type": "markdown",
   "id": "4448c45a",
   "metadata": {},
   "source": [
    "###Same Here"
   ]
  }
 ],
 "metadata": {
  "kernelspec": {
   "display_name": "Python 3 (ipykernel)",
   "language": "python",
   "name": "python3"
  },
  "language_info": {
   "codemirror_mode": {
    "name": "ipython",
    "version": 3
   },
   "file_extension": ".py",
   "mimetype": "text/x-python",
   "name": "python",
   "nbconvert_exporter": "python",
   "pygments_lexer": "ipython3",
   "version": "3.11.5"
  }
 },
 "nbformat": 4,
 "nbformat_minor": 5
}
